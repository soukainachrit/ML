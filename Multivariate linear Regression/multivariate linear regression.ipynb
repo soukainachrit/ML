{
 "cells": [
  {
   "cell_type": "code",
   "execution_count": 1,
   "id": "bbe1f9cb",
   "metadata": {},
   "outputs": [],
   "source": [
    "import pandas as pd\n",
    "import numpy as np\n",
    "import matplotlib.pyplot as plt\n",
    "df = pd.read_csv(\"lifeSatisfactionData.csv\")\n",
    "x = df.iloc[0:len(df),3:9]\n",
    "x = pd.concat([pd.Series(1, index=x.index, name='1'), x], axis=1)\n",
    "y = df.iloc[:,2]\n",
    "theta = np.zeros(len(x.columns))\n",
    "t=np.zeros(len(x.columns))\n",
    "m = len(df)"
   ]
  },
  {
   "cell_type": "code",
   "execution_count": 2,
   "id": "1023f798",
   "metadata": {},
   "outputs": [],
   "source": [
    "#hypothesis functon\n",
    "def hyp(theta, x):\n",
    "    h=x*theta\n",
    "    h=np.sum(h,axis=1)\n",
    "    return h"
   ]
  },
  {
   "cell_type": "code",
   "execution_count": 3,
   "id": "652f9e31",
   "metadata": {},
   "outputs": [],
   "source": [
    "#cost Function\n",
    "def Costfun(x,y,theta):\n",
    "    h = hyp(theta, x)\n",
    "    return sum((h-y)**2)/(2*m)"
   ]
  },
  {
   "cell_type": "code",
   "execution_count": 4,
   "id": "76af14fe",
   "metadata": {},
   "outputs": [],
   "source": [
    "#Gradient Descent function\n",
    "def GradientDescent(x,y,theta,it,lr):\n",
    "    J = []\n",
    "    for i in range(it):\n",
    "        h=hyp(theta,x)\n",
    "        for k in range(len(x.columns)):\n",
    "            z=x.iloc[:,k]\n",
    "            theta[k]=theta[k]-(lr/m)*sum((h-y)*z)\n",
    "        J.append(Costfun(x, y, theta))\n",
    "    return J,theta"
   ]
  },
  {
   "cell_type": "code",
   "execution_count": 5,
   "id": "84e2b440",
   "metadata": {},
   "outputs": [],
   "source": [
    "K,theta=GradientDescent(x,y,theta,1000,0.003)"
   ]
  },
  {
   "cell_type": "code",
   "execution_count": 6,
   "id": "589ffffe",
   "metadata": {},
   "outputs": [
    {
     "data": {
      "image/png": "[encoded data removed]",
      "text/plain": [
       "<Figure size 432x288 with 1 Axes>"
      ]
     },
     "metadata": {
      "needs_background": "light"
     },
     "output_type": "display_data"
    }
   ],
   "source": [
    "#plotting the variation of J along the iterations\n",
    "plt.figure()\n",
    "xAxis=list(range(0, 1000))\n",
    "yAxis=K\n",
    "plt.plot(xAxis,yAxis,color='red', marker='o')\n",
    "plt.title('Cost Function Graph')\n",
    "plt.xlabel('iterations')\n",
    "plt.ylabel('J')\n",
    "plt.show()"
   ]
  },
  {
   "cell_type": "code",
   "execution_count": 24,
   "id": "32d7278a",
   "metadata": {},
   "outputs": [
    {
     "name": "stdout",
     "output_type": "stream",
     "text": [
      "the predicted score is :  6.65679099009895\n"
     ]
    }
   ],
   "source": [
    "# test after fitting \n",
    "test1=[1, 1.3, 1.2, 0.845, 0.659 , 0.334 ,0.744]\n",
    "d=pd.DataFrame(columns=['init','Support','GDP','Health','Freedom','Generosity','Corruption'])\n",
    "d.loc[0] = test1\n",
    "\n",
    "p= hyp(theta, d)\n",
    "print('the predicted score is :  '+ str(p[0]))"
   ]
  },
  {
   "cell_type": "code",
   "execution_count": null,
   "id": "be7ed865",
   "metadata": {},
   "outputs": [],
   "source": []
  }
 ],
 "metadata": {
  "kernelspec": {
   "display_name": "Python 3",
   "language": "python",
   "name": "python3"
  },
  "language_info": {
   "codemirror_mode": {
    "name": "ipython",
    "version": 3
   },
   "file_extension": ".py",
   "mimetype": "text/x-python",
   "name": "python",
   "nbconvert_exporter": "python",
   "pygments_lexer": "ipython3",
   "version": "3.8.8"
  }
 },
 "nbformat": 4,
 "nbformat_minor": 5
}
